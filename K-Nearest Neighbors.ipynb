{
  "cells": [
    {
      "cell_type": "markdown",
      "metadata": {
        "id": "jao0sCaseOx1"
      },
      "source": [
        "# GPU Programming Lab 2\n",
        "This lab is for using GPU programming with cuda using python to perform machine learning task. The consists of 1 exercise and a homework. \n",
        "\n",
        "- <font color='red'><b> After each exercise, write a detailed summary explaining what you have done, your observations and  conclusions. </b></font>\n",
        "- <font color='red'><b> Make sure to write your name and your partner name (as registred in Halmstad University) in the name section above. </b></font>\n",
        "    \n",
        "- <font color='red'><b> You can do the lab in a group of a maximum of two students. </b></font>\n",
        "\n",
        "- <font color='red'><b> Only one of the students upload the lab to the blackboard. </b></font>\n",
        "\n",
        "# CUDA\n",
        "CUDA is a parallel programming platform and an API that facilitates the access to the CUDA-Enabled GPU functuonality for general purpose computing. It allows speeding up the software by utilizing the GPU power for the parallelizable part of the computation. Many Deep Learning platforms like tenserflow, keras, pytorch and others, rely on CUDA for their computations.\n",
        "\n",
        "## Common CUDA terminology:\n",
        "- <b>Host:</b> The CPU\n",
        "- <b>Device:</b> The GPU\n",
        "- <b>Host Memory:</b> The system main memory\n",
        "- <b>Device Memory:</b> The GPU onboard memory\n",
        "- <b>kernel:</b> A function that runs on the Device\n",
        "\n",
        "Threads are organized into a grid of blocks, where each block contains a subset of the threads that can cooperate using a block shared memory and can synchronize within each block.\n",
        "\n",
        "<img src='https://drive.google.com/uc?id=1QzXBVWki0M80KKY_CPzQu1ivE3fAcf2U' width=\"50%\" height=\"50%\"></img>\n",
        "\n",
        "\n",
        "Parallel portions of an application are executed on the device (GPU) as kernels, where an array of threads excutes each kernel. Each thread has an ID, by which it controls the portion of the data to excute the Kernel. All threads runs the same code on different portions of the data. Grids and Blocls can be organized as 1D, 2D, or 3D arrays. \n",
        "\n",
        "<img src='https://drive.google.com/uc?id=1vqh749XFQhfZwq7m7E-VXscBblh58mei' width=\"50%\" height=\"50%\"></img>\n",
        "\n",
        "\n",
        "\n",
        "\n"
      ]
    },
    {
      "cell_type": "markdown",
      "metadata": {
        "id": "_E739zZkeOx4"
      },
      "source": [
        "# Numba\n",
        "CUDA is designed to work with C++, but in this Lab we will work with Numba; a Python JIT compiler that translates subsets of the code into machine code, and enables writing a parallel GPU algorithms in Python"
      ]
    },
    {
      "cell_type": "markdown",
      "metadata": {
        "id": "9QHiu8QDeOx4"
      },
      "source": [
        "## Numba installation\n",
        "\n",
        "\n",
        "conda install numba\n",
        "\n",
        "pip install numba"
      ]
    },
    {
      "cell_type": "markdown",
      "metadata": {
        "id": "xMAENeOLeOx4"
      },
      "source": [
        "# Kernel \n",
        "- A Kernel is declared as a function with @cuda.jit decorator.\n",
        "- A Kernel function cannot have a return value and manages outputs as input-output arrays"
      ]
    },
    {
      "cell_type": "code",
      "execution_count": 1,
      "metadata": {
        "id": "_FgjQDwheOx4"
      },
      "outputs": [],
      "source": [
        "import numpy as np\n",
        "import math\n",
        "import numba as nb\n",
        "from numba import cuda\n",
        "import time"
      ]
    },
    {
      "cell_type": "code",
      "execution_count": 2,
      "metadata": {
        "id": "4_AS9sAHeOx5"
      },
      "outputs": [],
      "source": [
        "# kernel decleration\n",
        "@cuda.jit\n",
        "def my_kernel(io_array):\n",
        "    # code here\n",
        "    pass\n"
      ]
    },
    {
      "cell_type": "markdown",
      "metadata": {
        "id": "XYN52TZmeOx5"
      },
      "source": [
        "To invoc a kernal you have to specify number of blocks in the grid, and the number of threads per block. This can be done by specifying the number of threads per block and calculating how many blocks are required in the grid based on the size of the data.\n",
        "\n",
        "<font color=red>Important note: In the case that the data size is not divisable by the the number of thread per block, we take the ceiling of the number to reserve an extra block for the remaining part of the data. So the threads in the last block will not be fully occupied.</font>"
      ]
    },
    {
      "cell_type": "code",
      "execution_count": 3,
      "metadata": {
        "id": "QSspG86WeOx5",
        "outputId": "fed574a3-8d75-46a4-88f0-45057eb32832",
        "colab": {
          "base_uri": "https://localhost:8080/"
        }
      },
      "outputs": [
        {
          "output_type": "stream",
          "name": "stderr",
          "text": [
            "/usr/local/lib/python3.10/dist-packages/numba/cuda/dispatcher.py:488: NumbaPerformanceWarning: Grid size 8 will likely result in GPU under-utilization due to low occupancy.\n",
            "  warn(NumbaPerformanceWarning(msg))\n",
            "/usr/local/lib/python3.10/dist-packages/numba/cuda/cudadrv/devicearray.py:885: NumbaPerformanceWarning: Host array used in CUDA kernel will incur copy overhead to/from device.\n",
            "  warn(NumbaPerformanceWarning(msg))\n"
          ]
        }
      ],
      "source": [
        "# kernel invocation\n",
        "data = np.ones(256)\n",
        "\n",
        "threadsperblock = 32\n",
        "blockspergrid = math.ceil(len(data)/threadsperblock)\n",
        "\n",
        "my_kernel[blockspergrid, threadsperblock](data)\n"
      ]
    },
    {
      "cell_type": "markdown",
      "metadata": {
        "id": "3ghRQB8deOx9"
      },
      "source": [
        "## Exercise *1*: Distance Matrix\n",
        "The distance matrix (D) of a data matrix (A) is the matrix that contains the eucleadian distance between each two row vectors as shown in the following figure.\n",
        "<img src='https://drive.google.com/uc?id=1UMMRYmtPW9_Tonq20GBjxsDLrNFYSTdc' width=\"50%\" height=\"50%\"></img>\n",
        "\n",
        "where \n",
        "$$D[i,j]=D[j,i]=dist(A[i,:], A[j,:])$$\n",
        "\n",
        "\n",
        "Use what you have learned in the previous exercises to write a kernel and a host function to compute the distance matrix of a data matrix. \n"
      ]
    },
    {
      "cell_type": "code",
      "execution_count": 4,
      "metadata": {
        "id": "_DQ7orMUeOx9",
        "outputId": "bba0513b-c41a-4d8a-cfae-cad88892f90f",
        "colab": {
          "base_uri": "https://localhost:8080/"
        }
      },
      "outputs": [
        {
          "output_type": "stream",
          "name": "stdout",
          "text": [
            "[[ 0.         43.99124551 42.35231415 ... 44.36805577 45.27301867\n",
            "  44.10859555]\n",
            " [43.99124551  0.         43.6285848  ... 45.17765575 46.65116444\n",
            "  44.58858591]\n",
            " [42.35231415 43.6285848   0.         ... 44.03962269 45.88730286\n",
            "  43.64291063]\n",
            " ...\n",
            " [44.36805577 45.17765575 44.03962269 ...  0.         46.92075631\n",
            "  44.81056607]\n",
            " [45.27301867 46.65116444 45.88730286 ... 46.92075631  0.\n",
            "  44.01762329]\n",
            " [44.10859555 44.58858591 43.64291063 ... 44.81056607 44.01762329\n",
            "   0.        ]]\n"
          ]
        },
        {
          "output_type": "stream",
          "name": "stderr",
          "text": [
            "/usr/local/lib/python3.10/dist-packages/numba/cuda/cudadrv/devicearray.py:885: NumbaPerformanceWarning: Host array used in CUDA kernel will incur copy overhead to/from device.\n",
            "  warn(NumbaPerformanceWarning(msg))\n"
          ]
        }
      ],
      "source": [
        "import numpy as np\n",
        "import math\n",
        "from numba import cuda\n",
        "\n",
        "# Kernel to calculate Euclidean distance\n",
        "@cuda.jit(device=True)\n",
        "def euclidean_dist(x, y, n):\n",
        "    sum_squares = 0.0\n",
        "    for i in range(n):\n",
        "        diff = x[i] - y[i]\n",
        "        sum_squares += diff * diff\n",
        "    return math.sqrt(sum_squares)\n",
        "\n",
        "# Kernel to calculate distance matrix\n",
        "@cuda.jit\n",
        "def distance_matrix(mat, out):\n",
        "    m = mat.shape[0]  # Number of rows\n",
        "    n = mat.shape[1]  # Number of columns\n",
        "\n",
        "    i, j = cuda.grid(2)\n",
        "    if i < m and j < m:\n",
        "        out[i, j] = euclidean_dist(mat[i], mat[j], n)\n",
        "\n",
        "def gpu_dist_matrix(mat):\n",
        "    m = mat.shape[0]  # Number of rows\n",
        "\n",
        "    # Allocate output array on the device\n",
        "    out = cuda.device_array((m, m))\n",
        "\n",
        "    # Define blocks and grid dimensions\n",
        "    threads_per_block = (16, 16)\n",
        "    blocks_per_grid_x = math.ceil(mat.shape[0] / threads_per_block[0])\n",
        "    blocks_per_grid_y = math.ceil(mat.shape[0] / threads_per_block[1])\n",
        "    blocks_per_grid = (blocks_per_grid_x, blocks_per_grid_y)\n",
        "\n",
        "    # Run the kernel\n",
        "    distance_matrix[blocks_per_grid, threads_per_block](mat, out)\n",
        "\n",
        "    return out.copy_to_host()  # Transfer the result back to the host\n",
        "\n",
        "A = np.random.randn(1024,1024)\n",
        "D = gpu_dist_matrix(A)\n",
        "print(D)\n"
      ]
    },
    {
      "cell_type": "markdown",
      "metadata": {
        "id": "3NgvMlV5eOx_"
      },
      "source": [
        "# Homework: K-Nearest Neighbors (GPU version)\n",
        "\n",
        "K-Nearest Neighbors is one of the simplest and most intuitive algorithms in machine learning that relies on the principle that close points behave similarly. It is one of the case-based learning algorithms that can learn non-linear complicated decision boundaries with a single hyperparameter, i.e. K the number of nearest neighbors. The problem of this algorithm is that, to find the k nearest neighbors of a specific point, you have to compute the distances to all the points in the training dataset, which is very costly in terms of computation especially with a large amount of data. A great benefit can be achieved by performing such computation on the GPU.\n",
        "\n",
        "Your task is to implement the K-Nearest Neighbors algorithm using python, and Numba, and CUDA programming.\n",
        "Identify the parts of the algorithm that can make use of the GPU and implement them as CUDA kernels.\n",
        "\n",
        "Use the MNIST dataset as an example and implement a K-Nearest Neighbors classifier to classify the image of the digit into its category.\n",
        "\n",
        "Try different numbers of K and figure out the number that maximizes the accuracy of the classifier.\n",
        "Build another K-Nearest Neighbors using the Sciket-learn library and compare the computation time with your GPU-enabled algorithm. \n",
        "\n",
        "You can download MNIST from Keras library: ( https://keras.io/api/datasets/mnist/ )\n"
      ]
    },
    {
      "cell_type": "code",
      "source": [
        "#Importants imports\n",
        "import numpy as np\n",
        "import math\n",
        "import tensorflow as tf\n",
        "from collections import Counter\n",
        "from sklearn.model_selection import train_test_split\n",
        "from sklearn.preprocessing import StandardScaler\n",
        "from sklearn.neighbors import KNeighborsClassifier\n",
        "from sklearn.metrics import classification_report, confusion_matrix\n",
        "from tensorflow.keras.datasets import mnist\n",
        "from numba import cuda\n",
        "import time"
      ],
      "metadata": {
        "id": "v8B1R7ILrSt0"
      },
      "execution_count": 59,
      "outputs": []
    },
    {
      "cell_type": "code",
      "source": [
        "# Define a CUDA kernel using the @cuda.jit() decorator\n",
        "@cuda.jit()\n",
        "def dist_matrix(x, y, z):\n",
        "    # Obtain the current thread indices\n",
        "    row, col = cuda.grid(2)\n",
        "\n",
        "    # Check if the indices are within the bounds of the output matrix\n",
        "    if z.shape[1] > col and z.shape[0] > row:\n",
        "        sum = 0\n",
        "        # Compute the squared Euclidean distance between the corresponding points\n",
        "        for n in range(y.shape[1]):\n",
        "            diff = y[row, n] - x[col, n]\n",
        "            sum += diff * diff\n",
        "        # Store the result in the output matrix\n",
        "        z[row, col] = sum\n",
        "\n",
        "\n",
        "def GPU_Euclidean_distance(x, y):\n",
        "    # Transfer input arrays to the GPU memory\n",
        "    A_ = cuda.to_device(x)\n",
        "    B_ = cuda.to_device(y)\n",
        "\n",
        "    # Define the thread block size\n",
        "    thread_block_size = (32, 32)\n",
        "\n",
        "    # Compute the grid size based on the input array shapes\n",
        "    blockX = math.ceil(B_.shape[0] / thread_block_size[0])\n",
        "    blockY = math.ceil(A_.shape[0] / thread_block_size[1])\n",
        "    blockGrid = (blockX, blockY)\n",
        "\n",
        "    # Allocate GPU memory for the output matrix\n",
        "    C_ = cuda.device_array((y.shape[0], x.shape[0]), np.float32)\n",
        "\n",
        "    # Launch the CUDA kernel to compute the distance matrix\n",
        "    dist_matrix[blockGrid, thread_block_size](A_, B_, C_)\n",
        "\n",
        "    # Copy the result back to the CPU memory\n",
        "    Cop = C_.copy_to_host()\n",
        "\n",
        "    # Return the computed distance matrix\n",
        "    return Cop\n"
      ],
      "metadata": {
        "id": "i2OF494IqQnc"
      },
      "execution_count": 55,
      "outputs": []
    },
    {
      "cell_type": "code",
      "source": [
        "# Load the MNIST dataset \n",
        "(x_train, y_train), (x_test, y_test) = tf.keras.datasets.mnist.load_data(path=\"mnist.npz\")\n",
        "\n",
        "# Perform shape assertions to ensure the expected shapes of the loaded data\n",
        "assert x_train.shape == (60000, 28, 28)\n",
        "assert x_test.shape == (10000, 28, 28)\n",
        "assert y_train.shape == (60000,)\n",
        "assert y_test.shape == (10000,)\n",
        "\n",
        "# Normalize the pixel values to the range of [0, 1]\n",
        "x_train = x_train.astype(\"float32\") / 255\n",
        "x_test = x_test.astype(\"float32\") / 255\n",
        "\n",
        "# Reshape the data to flatten the images into a 1D array\n",
        "x_train = x_train.reshape((60000, 28*28))\n",
        "x_test = x_test.reshape((10000, 28*28))\n"
      ],
      "metadata": {
        "id": "Sat2yIqcqj-p"
      },
      "execution_count": 56,
      "outputs": []
    },
    {
      "cell_type": "code",
      "source": [
        "def pred(distance, X):\n",
        "    # Get the number of instances in the distance matrix\n",
        "    numbers = distance.shape[0]\n",
        "    \n",
        "    # Create an array to store the predicted labels\n",
        "    predicting = np.zeros(numbers)\n",
        "    \n",
        "    # Iterate over each instance\n",
        "    for m in range(numbers):\n",
        "        # Find the nearest neighbors based on the sorted distances\n",
        "        neighbors = np.take(y_train, np.argsort(distance[m]))[:X]\n",
        "        \n",
        "        # Count the occurrences of each label in the neighbors\n",
        "        (labels, counts) = np.unique(neighbors, return_counts=True)\n",
        "        \n",
        "        # Predict the label based on the majority vote\n",
        "        predicting[m] = labels[np.argmax(counts)]\n",
        "    \n",
        "    return predicting\n",
        "\n",
        "\n",
        "def acc(predicting, y_test):\n",
        "    # Initialize a counter for correct predictions\n",
        "    counter = 0\n",
        "    \n",
        "    # Iterate over each instance in the test set\n",
        "    for m in range(len(y_test)):\n",
        "        # Check if the prediction matches the true label\n",
        "        if predicting[m] == y_test[m]:\n",
        "            counter += 1\n",
        "    \n",
        "    # Calculate and print the accuracy\n",
        "    accuracy = (counter / len(predicting)) * 100\n",
        "    return print(\"Accuracy =\", accuracy, \"%\")\n"
      ],
      "metadata": {
        "id": "gPw9cvtzq1zz"
      },
      "execution_count": 57,
      "outputs": []
    },
    {
      "cell_type": "code",
      "source": [
        "start_time = time.time()\n",
        "dest = GPU_Euclidean_distance(x_train,x_test)\n",
        "print(dest)\n",
        "k = 3\n",
        "predd = pred(dest, k)\n",
        "acc(predd, y_test)\n",
        "end_time = time.time()\n",
        "gpu_time = end_time - start_time\n",
        "print(\"GPU time: {} seconds\".format(gpu_time))\n"
      ],
      "metadata": {
        "colab": {
          "base_uri": "https://localhost:8080/"
        },
        "id": "jBJJL0n0qljy",
        "outputId": "6c728b6a-6c8e-4b31-a7bf-66a767c9b95d"
      },
      "execution_count": 60,
      "outputs": [
        {
          "output_type": "stream",
          "name": "stdout",
          "text": [
            "[[ 88.27123  108.04831   89.12162  ...  89.63276   90.89498   85.06571 ]\n",
            " [125.059364 131.12627  135.88385  ... 126.7901   109.497025 112.222626]\n",
            " [ 85.077866 101.53147   83.78076  ...  85.681335  71.28048   70.412415]\n",
            " ...\n",
            " [106.175934 131.89719  110.35838  ...  99.73732  106.32168   94.05682 ]\n",
            " [111.56955  108.89341  121.26767  ... 108.294334  82.567276  85.4585  ]\n",
            " [133.30196   97.091736 157.6864   ... 146.9399    65.447334 135.59558 ]]\n",
            "Accuracy = 97.05 %\n",
            "GPU time: 66.87765145301819 seconds\n"
          ]
        }
      ]
    },
    {
      "cell_type": "code",
      "source": [
        "'''K-Nearest Neighbors using the Sciket-learn library '''\n",
        "\n",
        "# load the mnist dataset\n",
        "(x_train, y_train), (x_test, y_test) = tf.keras.datasets.mnist.load_data(path=\"mnist.npz\")\n",
        "assert x_train.shape == (60000, 28, 28)\n",
        "assert x_test.shape == (10000, 28, 28)\n",
        "assert y_train.shape == (60000,)\n",
        "assert y_test.shape == (10000,)\n",
        "\n",
        "# reshape the images into one-dimensional arrays\n",
        "x_train = x_train.reshape(-1, 784)\n",
        "X_test = X_test.reshape(-1, 784)\n",
        "\n",
        "# perform feature scaling\n",
        "scaler = StandardScaler()\n",
        "x_train = scaler.fit_transform(x_train)\n",
        "X_test = scaler.transform(X_test)\n",
        "\n",
        "# train the KNN model\n",
        "knn = KNeighborsClassifier(n_neighbors=3)\n",
        "start_time = time.time()\n",
        "knn.fit(x_train, y_train)\n",
        "\n",
        "# make predictions\n",
        "y_pred = knn.predict(X_test)\n",
        "\n",
        "# evaluate the model\n",
        "print(classification_report(y_test, y_pred))\n",
        "print(confusion_matrix(y_test, y_pred))\n",
        "\n",
        "end_time = time.time()\n",
        "cpu_time = end_time - start_time\n",
        "print(\"CPU time: {} seconds\".format(cpu_time))\n"
      ],
      "metadata": {
        "colab": {
          "base_uri": "https://localhost:8080/"
        },
        "id": "Fx5okHJuqyYG",
        "outputId": "dca398c2-a98a-42a1-de2a-5d0184a87ba4"
      },
      "execution_count": 61,
      "outputs": [
        {
          "output_type": "stream",
          "name": "stdout",
          "text": [
            "              precision    recall  f1-score   support\n",
            "\n",
            "           0       0.33      0.00      0.00       980\n",
            "           1       0.11      1.00      0.20      1135\n",
            "           2       1.00      0.00      0.00      1032\n",
            "           3       0.00      0.00      0.00      1010\n",
            "           4       0.00      0.00      0.00       982\n",
            "           5       0.00      0.00      0.00       892\n",
            "           6       0.40      0.00      0.00       958\n",
            "           7       1.00      0.00      0.00      1028\n",
            "           8       0.00      0.00      0.00       974\n",
            "           9       0.00      0.00      0.00      1009\n",
            "\n",
            "    accuracy                           0.11     10000\n",
            "   macro avg       0.28      0.10      0.02     10000\n",
            "weighted avg       0.29      0.11      0.02     10000\n",
            "\n",
            "[[   1  979    0    0    0    0    0    0    0    0]\n",
            " [   0 1135    0    0    0    0    0    0    0    0]\n",
            " [   0 1026    2    1    0    0    3    0    0    0]\n",
            " [   0 1010    0    0    0    0    0    0    0    0]\n",
            " [   1  981    0    0    0    0    0    0    0    0]\n",
            " [   1  891    0    0    0    0    0    0    0    0]\n",
            " [   0  956    0    0    0    0    2    0    0    0]\n",
            " [   0 1026    0    0    0    0    0    2    0    0]\n",
            " [   0  973    0    0    0    1    0    0    0    0]\n",
            " [   0 1006    0    0    3    0    0    0    0    0]]\n",
            "CPU time: 27.292094707489014 seconds\n"
          ]
        },
        {
          "output_type": "stream",
          "name": "stderr",
          "text": [
            "/usr/local/lib/python3.10/dist-packages/sklearn/metrics/_classification.py:1344: UndefinedMetricWarning: Precision and F-score are ill-defined and being set to 0.0 in labels with no predicted samples. Use `zero_division` parameter to control this behavior.\n",
            "  _warn_prf(average, modifier, msg_start, len(result))\n",
            "/usr/local/lib/python3.10/dist-packages/sklearn/metrics/_classification.py:1344: UndefinedMetricWarning: Precision and F-score are ill-defined and being set to 0.0 in labels with no predicted samples. Use `zero_division` parameter to control this behavior.\n",
            "  _warn_prf(average, modifier, msg_start, len(result))\n",
            "/usr/local/lib/python3.10/dist-packages/sklearn/metrics/_classification.py:1344: UndefinedMetricWarning: Precision and F-score are ill-defined and being set to 0.0 in labels with no predicted samples. Use `zero_division` parameter to control this behavior.\n",
            "  _warn_prf(average, modifier, msg_start, len(result))\n"
          ]
        }
      ]
    },
    {
      "cell_type": "code",
      "source": [],
      "metadata": {
        "id": "KK-u-uIy4yT8"
      },
      "execution_count": null,
      "outputs": []
    }
  ],
  "metadata": {
    "colab": {
      "provenance": [],
      "gpuType": "T4"
    },
    "kernelspec": {
      "display_name": "Python 3 (ipykernel)",
      "language": "python",
      "name": "python3"
    },
    "language_info": {
      "codemirror_mode": {
        "name": "ipython",
        "version": 3
      },
      "file_extension": ".py",
      "mimetype": "text/x-python",
      "name": "python",
      "nbconvert_exporter": "python",
      "pygments_lexer": "ipython3",
      "version": "3.9.12"
    },
    "accelerator": "GPU",
    "gpuClass": "standard"
  },
  "nbformat": 4,
  "nbformat_minor": 0
}